{
  "nbformat": 4,
  "nbformat_minor": 0,
  "metadata": {
    "colab": {
      "name": "Untitled0.ipynb",
      "provenance": [],
      "authorship_tag": "ABX9TyOoEOHsn4SEB5GtjxYFMzO2",
      "include_colab_link": true
    },
    "kernelspec": {
      "name": "python3",
      "display_name": "Python 3"
    },
    "language_info": {
      "name": "python"
    }
  },
  "cells": [
    {
      "cell_type": "markdown",
      "metadata": {
        "id": "view-in-github",
        "colab_type": "text"
      },
      "source": [
        "<a href=\"https://colab.research.google.com/github/ks-yahagi/ks-yahagi/blob/main/Numpy%E3%81%AE%E5%9F%BA%E7%A4%8E.ipynb\" target=\"_parent\"><img src=\"https://colab.research.google.com/assets/colab-badge.svg\" alt=\"Open In Colab\"/></a>"
      ]
    },
    {
      "cell_type": "code",
      "execution_count": 2,
      "metadata": {
        "colab": {
          "base_uri": "https://localhost:8080/",
          "height": 36
        },
        "id": "kyBYwxgHGW2a",
        "outputId": "cc14aeed-5345-445a-9051-f6f0bb509519"
      },
      "outputs": [
        {
          "output_type": "execute_result",
          "data": {
            "text/plain": [
              "'%.3f'"
            ],
            "application/vnd.google.colaboratory.intrinsic+json": {
              "type": "string"
            }
          },
          "metadata": {},
          "execution_count": 2
        }
      ],
      "source": [
        "#Numpyのインポート\n",
        "\n",
        "#Numpyライブラリの読み込み\n",
        "import numpy as np\n",
        "\n",
        "#少数第3位まで表示という意味\n",
        "%precision 3"
      ]
    },
    {
      "cell_type": "code",
      "source": [
        "#配列操作\n",
        "\n",
        "#配列の作成\n",
        "data = np.array([9,2,3,4,10,6,7,8,1,5])\n",
        "data"
      ],
      "metadata": {
        "id": "FQSAOCo_DFo6",
        "outputId": "e62d2648-0f73-43a1-b33d-b5b63c562fda",
        "colab": {
          "base_uri": "https://localhost:8080/"
        }
      },
      "execution_count": 3,
      "outputs": [
        {
          "output_type": "execute_result",
          "data": {
            "text/plain": [
              "array([ 9,  2,  3,  4, 10,  6,  7,  8,  1,  5])"
            ]
          },
          "metadata": {},
          "execution_count": 3
        }
      ]
    },
    {
      "cell_type": "code",
      "source": [
        ""
      ],
      "metadata": {
        "id": "dsuJNXlZD1UA"
      },
      "execution_count": null,
      "outputs": []
    },
    {
      "cell_type": "code",
      "source": [
        ""
      ],
      "metadata": {
        "id": "MJAXMxzwD4Q0"
      },
      "execution_count": null,
      "outputs": []
    }
  ]
}