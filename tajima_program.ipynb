{
  "nbformat": 4,
  "nbformat_minor": 0,
  "metadata": {
    "colab": {
      "name": "tajima_program.ipynb",
      "provenance": [],
      "collapsed_sections": [],
      "authorship_tag": "ABX9TyNS7pJ2BkzaxxS7yxCwqz0N",
      "include_colab_link": true
    },
    "kernelspec": {
      "name": "python3",
      "display_name": "Python 3"
    },
    "language_info": {
      "name": "python"
    }
  },
  "cells": [
    {
      "cell_type": "markdown",
      "metadata": {
        "id": "view-in-github",
        "colab_type": "text"
      },
      "source": [
        "<a href=\"https://colab.research.google.com/github/ks-yahagi/Embroidery-machine/blob/main/tajima_program.ipynb\" target=\"_parent\"><img src=\"https://colab.research.google.com/assets/colab-badge.svg\" alt=\"Open In Colab\"/></a>"
      ]
    },
    {
      "cell_type": "markdown",
      "source": [
        "これは, 刺繍機の経路を配置するプログラムのサポートを行うプログラムを書く\n",
        "プログラムの実行手順\n",
        "\n",
        "\n",
        "1. 使用する拡張子のまとめを書く\n",
        "2. 刺繍の配向角を決めるために繊維を配置するの曲線を関数で表す\n",
        "3. 刺繍する大きさなどの設定※注意:刺繍幅は3倍程度になるようにする(後で長方形になるように余分なところを切り捨てる為) \n",
        "4. 2の関数から各座標の配向角を微分によって決める.\n",
        "5. そのファイルをtajimaの刺繍経路を生成するファイルに入れる.\n",
        "6. 生成したファイルを大きさの設定になるように余分なところを切り捨てる\n",
        "7. 生成したデータをプログラムに変えるファイルに入れる. \n",
        "\n",
        "参照ページ\n",
        "・https://qiita.com/maskot1977/items/b4395da5f33f70cd4a09\n",
        "・https://office54.net/python/basic/python-textfile-create\n",
        "・https://note.nkmk.me/python-os-getcwd-chdir/\n"
      ],
      "metadata": {
        "id": "Qo-hzPo1ba4J"
      }
    },
    {
      "cell_type": "code",
      "execution_count": null,
      "metadata": {
        "id": "edWcwrjgSTwc"
      },
      "outputs": [],
      "source": [
        "#拡張子\n",
        "import sympy as sym\n",
        "from sympy.plotting import plot\n",
        "sym.init_printing(use_unicode=True)\n",
        "%matplotlib inline"
      ]
    },
    {
      "cell_type": "code",
      "source": [
        "#刺繍経路用の関数\n",
        "A,B,C,D,x = sym.symbols(\"A B C D x\")\n",
        "route = A*sym.cos(B*x+C)+D\n",
        "route"
      ],
      "metadata": {
        "id": "Tek018XqSfd-",
        "colab": {
          "base_uri": "https://localhost:8080/",
          "height": 39
        },
        "outputId": "9c221412-7e7b-4822-dfa0-36653906fc7c"
      },
      "execution_count": null,
      "outputs": [
        {
          "output_type": "execute_result",
          "data": {
            "text/plain": [
              "A⋅cos(B⋅x + C) + D"
            ],
            "image/png": "[encoded data removed]",
            "text/latex": "$\\displaystyle A \\cos{\\left(B x + C \\right)} + D$"
          },
          "metadata": {},
          "execution_count": 10
        }
      ]
    },
    {
      "cell_type": "code",
      "source": [
        "#刺繍範囲　幅h[mm]　長さl[mm]　その他\n",
        "h1 = 180\n",
        "l = 200\n",
        "h2 = h1*3"
      ],
      "metadata": {
        "id": "vrvUHFaSSseV"
      },
      "execution_count": null,
      "outputs": []
    },
    {
      "cell_type": "code",
      "source": [
        "#微分する\n",
        "route_dif = sym.diff(route,x)\n",
        "route_dif"
      ],
      "metadata": {
        "id": "t0VhSE-eT3gq",
        "colab": {
          "base_uri": "https://localhost:8080/",
          "height": 39
        },
        "outputId": "02481d5a-4309-4689-834b-bf85133ce0dd"
      },
      "execution_count": null,
      "outputs": [
        {
          "output_type": "execute_result",
          "data": {
            "text/plain": [
              "-A⋅B⋅sin(B⋅x + C)"
            ],
            "image/png": "[encoded data removed]",
            "text/latex": "$\\displaystyle - A B \\sin{\\left(B x + C \\right)}$"
          },
          "metadata": {},
          "execution_count": 13
        }
      ]
    },
    {
      "cell_type": "code",
      "source": [
        "#datファイルの作成\n"
      ],
      "metadata": {
        "id": "klC40hBZe0kI"
      },
      "execution_count": null,
      "outputs": []
    }
  ]
}