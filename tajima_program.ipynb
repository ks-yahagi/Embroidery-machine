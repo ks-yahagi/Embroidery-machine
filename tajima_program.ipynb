{
  "nbformat": 4,
  "nbformat_minor": 0,
  "metadata": {
    "colab": {
      "name": "tajima_program.ipynb",
      "provenance": [],
      "collapsed_sections": [],
      "authorship_tag": "ABX9TyMG5c6U3brBHs55r9ak6Xos",
      "include_colab_link": true
    },
    "kernelspec": {
      "name": "python3",
      "display_name": "Python 3"
    },
    "language_info": {
      "name": "python"
    }
  },
  "cells": [
    {
      "cell_type": "markdown",
      "metadata": {
        "id": "view-in-github",
        "colab_type": "text"
      },
      "source": [
        "<a href=\"https://colab.research.google.com/github/ks-yahagi/Embroidery-machine/blob/main/tajima_program.ipynb\" target=\"_parent\"><img src=\"https://colab.research.google.com/assets/colab-badge.svg\" alt=\"Open In Colab\"/></a>"
      ]
    },
    {
      "cell_type": "code",
      "execution_count": null,
      "metadata": {
        "id": "edWcwrjgSTwc"
      },
      "outputs": [],
      "source": [
        "#import\n",
        "import math"
      ]
    },
    {
      "cell_type": "code",
      "source": [
        "#刺繍経路用の関数\n",
        "def cos(A,B,C,D,x):\n",
        "  return A*math.cos(B*x+C)+D"
      ],
      "metadata": {
        "id": "Tek018XqSfd-"
      },
      "execution_count": null,
      "outputs": []
    },
    {
      "cell_type": "code",
      "source": [
        "#刺繍範囲　幅h[mm]　長さl[mm]\n",
        "h=180\n",
        "l=200"
      ],
      "metadata": {
        "id": "vrvUHFaSSseV"
      },
      "execution_count": null,
      "outputs": []
    },
    {
      "cell_type": "code",
      "source": [
        "#刺繍経路cos関数の大きさ\n",
        "A="
      ],
      "metadata": {
        "id": "t0VhSE-eT3gq"
      },
      "execution_count": null,
      "outputs": []
    }
  ]
}