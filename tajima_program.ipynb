{
  "nbformat": 4,
  "nbformat_minor": 0,
  "metadata": {
    "colab": {
      "name": "tajima_program.ipynb",
      "provenance": [],
      "collapsed_sections": [],
      "authorship_tag": "ABX9TyM5lSMXYBVbUcyQlrMszp+T",
      "include_colab_link": true
    },
    "kernelspec": {
      "name": "python3",
      "display_name": "Python 3"
    },
    "language_info": {
      "name": "python"
    }
  },
  "cells": [
    {
      "cell_type": "markdown",
      "metadata": {
        "id": "view-in-github",
        "colab_type": "text"
      },
      "source": [
        "<a href=\"https://colab.research.google.com/github/ks-yahagi/Embroidery-machine/blob/main/tajima_program.ipynb\" target=\"_parent\"><img src=\"https://colab.research.google.com/assets/colab-badge.svg\" alt=\"Open In Colab\"/></a>"
      ]
    },
    {
      "cell_type": "markdown",
      "source": [
        "これは, 刺繍機の経路を配置するプログラムのサポートを行うプログラムを書く\n",
        "プログラムの実行手順\n",
        "\n",
        "\n",
        "1. 使用する拡張子のまとめを書く\n",
        "2. 刺繍の配向角を決めるために繊維を配置するの曲線を関数で表す\n",
        "3. 刺繍する大きさなどの設定※注意:刺繍幅は3倍程度になるようにする(後で長方形になるように余分なところを切り捨てる為) \n",
        "4. 2の関数から各座標の配向角を微分によって決める.\n",
        "5. そのファイルをtajimaの刺繍経路を生成するファイルに入れる.\n",
        "6. 生成したファイルを大きさの設定になるように余分なところを切り捨てる\n",
        "7. 生成したデータをプログラムに変えるファイルに入れる. \n"
      ],
      "metadata": {
        "id": "Qo-hzPo1ba4J"
      }
    },
    {
      "cell_type": "code",
      "execution_count": null,
      "metadata": {
        "id": "edWcwrjgSTwc"
      },
      "outputs": [],
      "source": [
        "#import\n",
        "import math"
      ]
    },
    {
      "cell_type": "code",
      "source": [
        "#刺繍経路用の関数\n",
        "def cos(A,B,C,D,x):\n",
        "  return A*math.cos(B*x+C)+D"
      ],
      "metadata": {
        "id": "Tek018XqSfd-"
      },
      "execution_count": null,
      "outputs": []
    },
    {
      "cell_type": "code",
      "source": [
        "#刺繍範囲　幅h[mm]　長さl[mm]\n",
        "h=180\n",
        "l=200"
      ],
      "metadata": {
        "id": "vrvUHFaSSseV"
      },
      "execution_count": null,
      "outputs": []
    },
    {
      "cell_type": "code",
      "source": [
        "#刺繍経路cos関数の大きさ\n",
        "A="
      ],
      "metadata": {
        "id": "t0VhSE-eT3gq"
      },
      "execution_count": null,
      "outputs": []
    }
  ]
}